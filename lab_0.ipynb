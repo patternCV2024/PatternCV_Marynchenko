{
 "cells": [
  {
   "cell_type": "markdown",
   "id": "62f867fb-43fe-4603-891b-fe365e396136",
   "metadata": {},
   "source": [
    "# Лобораторна робота №0"
   ]
  },
  {
   "cell_type": "markdown",
   "id": "1c4e80fe-565a-444e-8e2a-f13a5217dbd9",
   "metadata": {},
   "source": [
    "Налаштовуємо та перевіряємо налаштування за допомогою Git Bash"
   ]
  },
  {
   "cell_type": "markdown",
   "id": "c7c0f7fd-7fc8-48a3-bdf7-d03f2d204c0f",
   "metadata": {
    "tags": []
   },
   "source": [
    "![git_bash](img1_git_bash.png)"
   ]
  },
  {
   "cell_type": "markdown",
   "id": "6c34f22c-6798-4b21-84aa-27dacc5649ba",
   "metadata": {},
   "source": [
    "Виконуємо клонування віддаленого репозиторію створеного попередньо в GitHub"
   ]
  },
  {
   "cell_type": "markdown",
   "id": "7a2e3de1-5a40-4441-87f5-a3836cf81309",
   "metadata": {},
   "source": [
    "![git_bush_clone](img2_git_bash.png)"
   ]
  },
  {
   "cell_type": "markdown",
   "id": "343d624f-dd6e-4ef2-9732-eba46c400d50",
   "metadata": {},
   "source": [
    "перевіряємо гілки коммітів"
   ]
  },
  {
   "cell_type": "markdown",
   "id": "cadfc290-0f8b-40df-9cee-b14a7942bbd9",
   "metadata": {},
   "source": [
    "![git_branch](img3_branches.png)"
   ]
  },
  {
   "cell_type": "markdown",
   "id": "c21a7a8e-530f-4b89-a2bb-96f00c44ff16",
   "metadata": {},
   "source": [
    "Перевіряємо зв'язки з віддаленим каталогом"
   ]
  },
  {
   "cell_type": "markdown",
   "id": "43183a54-6c8d-4287-bff2-642a3b053796",
   "metadata": {},
   "source": [
    "![git_remote](img4_remotes.png)"
   ]
  },
  {
   "cell_type": "markdown",
   "id": "bce1733a-c55d-4fa3-a25e-5bd19a219895",
   "metadata": {
    "tags": []
   },
   "source": [
    "Контрольні запитання\n",
    "\n",
    "\n",
    "1. Що таке система контроля версій (СКВ) і для чого вона призначена? У чому принципова відмінність СКВ SVN та GIT?\n",
    "\n",
    "Система контролю версій (СКВ) - це програмний інструмент, який використовується для відстеження змін в файловій системі, а також для управління цими змінами.\n",
    "\n",
    "SVN - централізована СКВ, де всі файли та історія їх змін зберігаються на сервері. Розробники взаємодіють з центральним сервером для отримання оновлень та збереження своїх змін.\n",
    "\n",
    "Git - розподілена СКВ, кожен розробник має повну копію репозиторію, включаючи історію змін, на своєму комп'ютері. Це дозволяє працювати незалежно навіть без з'єднання з центральним сервером. До того ж Git є швидшим гнучкішим, та надає можливість розгалудження гілок коммітів.\n",
    "\n",
    "2. Що відбувається при виконанні команди git add?\n",
    "\n",
    "При виконанні команди git add, Git додає зміни з вказаних файлів у зону відстеження, що є підготовчим етапом перед збереженням змін у репозиторії.\n",
    "\n",
    "\n",
    "3. Що відбувається при виконанні команди git commit?\n",
    "\n",
    "Git фіксує зміни, які були внесені за допомогою git add і попередньо були підготовлені для коміту.\n",
    "\n",
    "\n",
    "4. Якою Git-командою виконується розміщення локальної копії Git-репозиторію проєкта на віддаленому, що знаходиться на GitHub?\n",
    "\n",
    "git clone для клонування репозиторію або git push для розміщення змін з GitHub в локальний репозиторій"
   ]
  }
 ],
 "metadata": {
  "kernelspec": {
   "display_name": "Python 3 (ipykernel)",
   "language": "python",
   "name": "python3"
  },
  "language_info": {
   "codemirror_mode": {
    "name": "ipython",
    "version": 3
   },
   "file_extension": ".py",
   "mimetype": "text/x-python",
   "name": "python",
   "nbconvert_exporter": "python",
   "pygments_lexer": "ipython3",
   "version": "3.11.5"
  }
 },
 "nbformat": 4,
 "nbformat_minor": 5
}
