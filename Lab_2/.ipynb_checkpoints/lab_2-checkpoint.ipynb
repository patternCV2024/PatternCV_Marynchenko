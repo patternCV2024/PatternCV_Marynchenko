{
 "cells": [
  {
   "cell_type": "markdown",
   "id": "1a942535-c6ff-4920-b9fe-803b8e364a73",
   "metadata": {},
   "source": [
    "# Лабораторна робота 2. Побудова лінійного бінарного класифікатора на основі оптимізації функціонала якості"
   ]
  },
  {
   "cell_type": "code",
   "execution_count": 2,
   "id": "c6848852-3277-4a65-8810-d50c73ee80cd",
   "metadata": {},
   "outputs": [
    {
     "name": "stderr",
     "output_type": "stream",
     "text": [
      "No artists with labels found to put in legend.  Note that artists whose label start with an underscore are ignored when legend() is called with no argument.\n"
     ]
    },
    {
     "name": "stdout",
     "output_type": "stream",
     "text": [
      "Weights: [ 0.01107404 -0.00147094 -0.01692474]\n"
     ]
    },
    {
     "data": {
      "image/png": "[encoded data removed]",
      "text/plain": [
       "<Figure size 640x480 with 1 Axes>"
      ]
     },
     "metadata": {},
     "output_type": "display_data"
    }
   ],
   "source": [
    "import numpy as np\n",
    "import matplotlib.pyplot as plt\n",
    "import openpyxl\n",
    "\n",
    "wb = openpyxl.load_workbook('data.xlsx')\n",
    "ws = wb.active\n",
    "\n",
    "# Читаємо дані з файлу Excel та конвертуємо їх у числовий формат\n",
    "x_train_0 = np.array([float(ws.cell(row=i,column=1).value) for i in range(2, ws.max_row+1)])\n",
    "x_train_1 = np.array([float(ws.cell(row=i,column=2).value) for i in range(2, ws.max_row+1)])\n",
    "y_train = np.array([float(ws.cell(row=i,column=3).value) for i in range(2, ws.max_row+1)])\n",
    "\n",
    "# Об'єднуємо дані у вхідні вектори\n",
    "x_train = np.column_stack((x_train_0, x_train_1, np.ones_like(x_train_0)))\n",
    "\n",
    "# Обчислення вагових коефіцієнтів\n",
    "w = np.linalg.lstsq(x_train, y_train, rcond=None)[0]\n",
    "print(\"Weights:\", w)\n",
    "\n",
    "# Формуємо координати для лінії розділення\n",
    "line_x = np.arange(0, np.max(x_train[:, 0]) + 1)\n",
    "line_y = -(w[0] * line_x + w[2]) / w[1]\n",
    "\n",
    "# Розділяємо дані на класи\n",
    "x_0 = x_train[y_train == 1]\n",
    "x_1 = x_train[y_train == -1]\n",
    "\n",
    "# Відображаємо графік\n",
    "plt.scatter(x_0[:, 0], x_0[:, 1], color='red')\n",
    "plt.scatter(x_1[:, 0], x_1[:, 1], color='blue')\n",
    "plt.plot(line_x, line_y, color='green')\n",
    "plt.xlim([0, 60])\n",
    "plt.ylim([0, 51])\n",
    "plt.ylabel(\"довжина\")\n",
    "plt.xlabel(\"ширина\")\n",
    "plt.grid(True)\n",
    "plt.legend()\n",
    "plt.show()\n"
   ]
  },
  {
   "cell_type": "markdown",
   "id": "6ce3c4ad-9afa-47e9-8e71-ebe526c6b992",
   "metadata": {},
   "source": [
    "В даному випадку результат класифікації відрізняється від попередньго тим, що прама розташована не на початку координат, а зміщена по осі ширини вправо"
   ]
  },
  {
   "cell_type": "markdown",
   "id": "50cda25b-0b37-4b82-89a0-8ed8496015d8",
   "metadata": {},
   "source": [
    "## Відповіді на контрольні питання\n",
    "\n",
    "1. Що таке відступ (margin) і яка його роль в побудові моделі класифікації?\n",
    "\n",
    "Відступ (margin) - це відстань між границею розділення класів у моделі класифікації та найближчими до неї екземплярами даних. Великий відступ свідчить про стійкість моделі до нових даних та дозволяє зменшити ризик перенавчання. Максимізація відступу сприяє покращенню загальної ефективності моделі на тестових даних, тому бажаною метою є пошук моделі з найбільшим можливим відступом.\n",
    "\n",
    "2. Яка роль функції втрат і чому не можна знайти коефіцієнти лінійного класифікатора шляхом безпосереднього розв'язаня задачі оптимізації через знаходження похідної? \n",
    "\n",
    "Функція втрат визначає, наскільки добре модель класифікації працює на навчальних даних шляхом порівняння прогнозованих значень з фактичними. Її роль полягає в тому, щоб оцінити, наскільки ефективно модель розділяє класи і як можна покращити цю ефективність.\n",
    "\n",
    "Для знаходження оптимальних коефіцієнтів частіше використовують ітеративні методи оптимізації, такі як градієнтний спуск, які апроксимують оптимальні значення шляхом поступового оновлення параметрів моделі.\n",
    "\n",
    "3. Чим приницпово розрізняється алгоритм, розглянутий у цій роботі від алгоритму, розглянутого у лаб. роб 1?\n",
    "\n",
    "Відмінність полягає в методі знаходження оптимальних параметрів моделі: простий лінійний бінарний класифікатор використовує прямий аналітичний або ітеративний підхід, тоді як лінійний бінарний класифікатор на основі оптимізації функціонала якості оптимізує функціонал якості для знаходження оптимальних параметрів.\n",
    "\n",
    "4. Вивести математичний вираз для оцінки вектора $\\omega$?\n",
    "   \n",
    "$y_i (\\omega ^T x_i + b)>= 1$\n",
    "\n",
    "де $x_i$ - вектор ознак \n",
    "\n",
    "$i$-го прикладу даних\n",
    "\n",
    "$y_i$ - мітка класу $i$-го прикладу даних\n",
    "\n",
    "$b$ - зсув $(bias)$."
   ]
  },
  {
   "cell_type": "code",
   "execution_count": null,
   "id": "3fc70848-2165-4bae-aad7-c6ab4bb1ca21",
   "metadata": {},
   "outputs": [],
   "source": []
  }
 ],
 "metadata": {
  "kernelspec": {
   "display_name": "Python 3 (ipykernel)",
   "language": "python",
   "name": "python3"
  },
  "language_info": {
   "codemirror_mode": {
    "name": "ipython",
    "version": 3
   },
   "file_extension": ".py",
   "mimetype": "text/x-python",
   "name": "python",
   "nbconvert_exporter": "python",
   "pygments_lexer": "ipython3",
   "version": "3.11.5"
  }
 },
 "nbformat": 4,
 "nbformat_minor": 5
}
