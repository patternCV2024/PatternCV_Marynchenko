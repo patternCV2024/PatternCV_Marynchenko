{
 "cells": [
  {
   "cell_type": "markdown",
   "id": "d4e80167-8b4f-4779-9df5-7e7489c7684b",
   "metadata": {},
   "source": [
    "# Лабораторна робота 5. Метод опорних векторів (SVM). Методи оцінки якості моделі"
   ]
  },
  {
   "cell_type": "markdown",
   "id": "4b607f58-9d72-41f7-8390-2b55bed1c668",
   "metadata": {},
   "source": [
    "## 1. Реалізувати SVM-класифікатор з лінійним і різними нелінійним ядрами згідно з варіантом."
   ]
  },
  {
   "cell_type": "code",
   "execution_count": null,
   "id": "c2f082c7-df93-4c80-ace3-ab5cbc1554b2",
   "metadata": {},
   "outputs": [],
   "source": []
  },
  {
   "cell_type": "markdown",
   "id": "687de036-1803-4934-ba15-d257c95644e0",
   "metadata": {},
   "source": [
    "## 2. Проаналізувати іпорівняти результати класифікації, обчисливши відповідні метрики."
   ]
  },
  {
   "cell_type": "code",
   "execution_count": null,
   "id": "c355b050-e81a-470e-9ab3-809cce13bd9a",
   "metadata": {},
   "outputs": [],
   "source": []
  },
  {
   "cell_type": "markdown",
   "id": "54e54abc-5ca2-4aa4-b20d-e121ef5fb097",
   "metadata": {},
   "source": [
    "## 3. Вибрати найкращу модель. Результат обґрунтувати."
   ]
  },
  {
   "cell_type": "code",
   "execution_count": null,
   "id": "668cd9e9-c6fd-4505-a2ce-5ce01b515886",
   "metadata": {},
   "outputs": [],
   "source": []
  },
  {
   "cell_type": "markdown",
   "id": "ea78a270-ec33-4958-a3e1-299ed98bd5b1",
   "metadata": {},
   "source": [
    "## Відповіді на контрольні питання"
   ]
  },
  {
   "cell_type": "markdown",
   "id": "e4c78731-b623-4b5f-a319-e8d1f2e7be50",
   "metadata": {},
   "source": [
    "Як виглядає оптимальна гіперплощина в лінійно подільному випадку?\r\n",
    "Яким чином можна розділити дані, які не є лінійно роздільними за допомогою методу опорних векторів?\r\n",
    "Яким чином можна реалізувати SVM з використанням бібліотеки scikit-learn?\r\n",
    "Як обчислюються показники precision і recall для моделі SVM?\r\n",
    "Як обчислюється індекс Джині та яку інформацію він надає про модель?\r\n",
    "Як використовується ядровий метод у випадку нелінійно роздільних даних?\r\n",
    "Як виглядає процес навчання та передбачення за допомогою SVM?"
   ]
  },
  {
   "cell_type": "code",
   "execution_count": null,
   "id": "3601eab8-b90b-4296-9efa-0fddb8f716d6",
   "metadata": {},
   "outputs": [],
   "source": []
  }
 ],
 "metadata": {
  "kernelspec": {
   "display_name": "Python 3 (ipykernel)",
   "language": "python",
   "name": "python3"
  },
  "language_info": {
   "codemirror_mode": {
    "name": "ipython",
    "version": 3
   },
   "file_extension": ".py",
   "mimetype": "text/x-python",
   "name": "python",
   "nbconvert_exporter": "python",
   "pygments_lexer": "ipython3",
   "version": "3.11.5"
  }
 },
 "nbformat": 4,
 "nbformat_minor": 5
}
